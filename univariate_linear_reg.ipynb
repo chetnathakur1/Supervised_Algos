{
 "cells": [
  {
   "cell_type": "code",
   "execution_count": 1,
   "metadata": {},
   "outputs": [],
   "source": [
    "import numpy as np\n",
    "import pandas as pd\n",
    "import matplotlib.pyplot as plt"
   ]
  },
  {
   "cell_type": "code",
   "execution_count": 2,
   "metadata": {},
   "outputs": [
    {
     "data": {
      "text/html": [
       "<div>\n",
       "<style scoped>\n",
       "    .dataframe tbody tr th:only-of-type {\n",
       "        vertical-align: middle;\n",
       "    }\n",
       "\n",
       "    .dataframe tbody tr th {\n",
       "        vertical-align: top;\n",
       "    }\n",
       "\n",
       "    .dataframe thead th {\n",
       "        text-align: right;\n",
       "    }\n",
       "</style>\n",
       "<table border=\"1\" class=\"dataframe\">\n",
       "  <thead>\n",
       "    <tr style=\"text-align: right;\">\n",
       "      <th></th>\n",
       "      <th>area</th>\n",
       "      <th>price</th>\n",
       "    </tr>\n",
       "  </thead>\n",
       "  <tbody>\n",
       "    <tr>\n",
       "      <th>0</th>\n",
       "      <td>2231.88</td>\n",
       "      <td>558852.17</td>\n",
       "    </tr>\n",
       "    <tr>\n",
       "      <th>1</th>\n",
       "      <td>2524.92</td>\n",
       "      <td>632260.29</td>\n",
       "    </tr>\n",
       "    <tr>\n",
       "      <th>2</th>\n",
       "      <td>1527.65</td>\n",
       "      <td>382994.25</td>\n",
       "    </tr>\n",
       "    <tr>\n",
       "      <th>3</th>\n",
       "      <td>1986.09</td>\n",
       "      <td>497607.86</td>\n",
       "    </tr>\n",
       "    <tr>\n",
       "      <th>4</th>\n",
       "      <td>2920.16</td>\n",
       "      <td>730870.84</td>\n",
       "    </tr>\n",
       "  </tbody>\n",
       "</table>\n",
       "</div>"
      ],
      "text/plain": [
       "      area      price\n",
       "0  2231.88  558852.17\n",
       "1  2524.92  632260.29\n",
       "2  1527.65  382994.25\n",
       "3  1986.09  497607.86\n",
       "4  2920.16  730870.84"
      ]
     },
     "execution_count": 2,
     "metadata": {},
     "output_type": "execute_result"
    }
   ],
   "source": [
    "df = pd.read_csv('house_prices_dataset.csv')\n",
    "df.head()"
   ]
  },
  {
   "attachments": {},
   "cell_type": "markdown",
   "metadata": {},
   "source": [
    "Creating a scatter plot of area/ price columns"
   ]
  },
  {
   "cell_type": "code",
   "execution_count": 5,
   "metadata": {},
   "outputs": [
    {
     "data": {
      "image/png": "[encoded data removed]",
      "text/plain": [
       "<Figure size 640x480 with 1 Axes>"
      ]
     },
     "metadata": {},
     "output_type": "display_data"
    }
   ],
   "source": [
    "df.plot.scatter(x='area',y='price')\n",
    "plt.show()"
   ]
  },
  {
   "attachments": {},
   "cell_type": "markdown",
   "metadata": {},
   "source": [
    "function to calculate predicted value based on given weights and biases"
   ]
  },
  {
   "cell_type": "code",
   "execution_count": 6,
   "metadata": {},
   "outputs": [],
   "source": [
    "def calculate_prediction(x,w,b):\n",
    "    return (w*x) + b"
   ]
  },
  {
   "attachments": {},
   "cell_type": "markdown",
   "metadata": {},
   "source": [
    "Function to calculate the squared error between the predicted and actual values\n"
   ]
  },
  {
   "cell_type": "code",
   "execution_count": 7,
   "metadata": {},
   "outputs": [],
   "source": [
    "def calculate_squared_error(row, w, b):\n",
    "    y_hat = calculate_prediction(row['area'], w, b)\n",
    "    y = row['price']\n",
    "    return(y_hat - y) ** 2"
   ]
  },
  {
   "attachments": {},
   "cell_type": "markdown",
   "metadata": {},
   "source": [
    "Function to calculate the cost function J(w, b)"
   ]
  },
  {
   "cell_type": "code",
   "execution_count": 8,
   "metadata": {},
   "outputs": [],
   "source": [
    "def calculate_cost(w,b):\n",
    "    cost = 0\n",
    "    m = df.shape[0] #no. of training examples\n",
    "    for index, row in df.iterrows():\n",
    "        cost += calculate_squared_error(row, w,b)\n",
    "    return (1/(2*m))*cost"
   ]
  },
  {
   "attachments": {},
   "cell_type": "markdown",
   "metadata": {},
   "source": [
    "Function to calculate the gradients of the cost function"
   ]
  },
  {
   "cell_type": "code",
   "execution_count": 9,
   "metadata": {},
   "outputs": [],
   "source": [
    "def calculate_gradients(w,b):\n",
    "    m = df.shape[0]   #no. of training examples\n",
    "    dj_dw = 0\n",
    "    dj_db = 0\n",
    "    for index, row in df.iterrows():\n",
    "        y_hat = calculate_prediction(row['area'],w,b)\n",
    "        y = row['price']\n",
    "        dj_dw += ((y_hat - y) * row['area'])\n",
    "        dj_db += (y_hat - y)\n",
    "\n",
    "    dj_dw = dj_dw / m\n",
    "    dj_db = dj_db / m\n",
    "\n",
    "    dj_dw = w - (alpha * dj_dw)  #Update rule for weights\n",
    "    dj_db = b - (alpha * dj_db)  #Update rule for biases\n",
    "\n",
    "    return [dj_dw, dj_db]\n"
   ]
  },
  {
   "attachments": {},
   "cell_type": "markdown",
   "metadata": {},
   "source": [
    "Function to perform gradient descent and update the weights and biases"
   ]
  },
  {
   "cell_type": "code",
   "execution_count": 27,
   "metadata": {},
   "outputs": [],
   "source": [
    "def gradient_descent(alpha, epochs, init_w, init_b, print_interval):\n",
    "    local_w = init_w\n",
    "    local_b = init_b\n",
    "\n",
    "    for i in range(0, epochs):\n",
    "        gradients = calculate_gradients(local_w, local_b)\n",
    "        new_w, new_b = gradients\n",
    "        local_w = new_w\n",
    "        local_b = new_b\n",
    "        if (i + 1) % print_interval == 0:\n",
    "            print('Epoch:', i+1)\n",
    "            print('w change:', new_w)\n",
    "            print('b change:', new_b)\n",
    "    return [local_w, local_b]"
   ]
  },
  {
   "attachments": {},
   "cell_type": "markdown",
   "metadata": {},
   "source": [
    "Running the gradient descent algorithm"
   ]
  },
  {
   "cell_type": "code",
   "execution_count": 28,
   "metadata": {},
   "outputs": [
    {
     "name": "stdout",
     "output_type": "stream",
     "text": [
      "Epoch: 100\n",
      "w change: 250.4254478061784\n",
      "b change: 0.10746835745449701\n",
      "Epoch: 200\n",
      "w change: 250.42544763969588\n",
      "b change: 0.10785770980462486\n",
      "Epoch: 300\n",
      "w change: 250.42544747321338\n",
      "b change: 0.10824706200372243\n",
      "Epoch: 400\n",
      "w change: 250.42544730673097\n",
      "b change: 0.10863641405179\n",
      "Epoch: 500\n",
      "w change: 250.42544714024865\n",
      "b change: 0.10902576594882757\n",
      "Epoch: 600\n",
      "w change: 250.42544697376638\n",
      "b change: 0.10941511769483511\n",
      "Epoch: 700\n",
      "w change: 250.42544680728417\n",
      "b change: 0.10980446928981277\n",
      "Epoch: 800\n",
      "w change: 250.42544664080202\n",
      "b change: 0.11019382073376056\n",
      "Epoch: 900\n",
      "w change: 250.42544647431995\n",
      "b change: 0.11058317202667854\n",
      "Epoch: 1000\n",
      "w change: 250.42544630783792\n",
      "b change: 0.11097252316856676\n"
     ]
    },
    {
     "data": {
      "text/plain": [
       "(250.42544630783792, 0.11097252316856676)"
      ]
     },
     "execution_count": 28,
     "metadata": {},
     "output_type": "execute_result"
    }
   ],
   "source": [
    "alpha = 0.0000001\n",
    "epochs = 1000\n",
    "#one complete pass of the training dataset through the algorithm\n",
    "initial_w = 0\n",
    "initial_b = 0\n",
    "print_interval = 100 #Specify the interval for printing changes\n",
    "final_w, final_b = gradient_descent(alpha, epochs, initial_w, initial_b, print_interval)\n"
   ]
  },
  {
   "attachments": {},
   "cell_type": "markdown",
   "metadata": {},
   "source": [
    "Displaying the final weights and biases"
   ]
  },
  {
   "cell_type": "code",
   "execution_count": 29,
   "metadata": {},
   "outputs": [
    {
     "name": "stdout",
     "output_type": "stream",
     "text": [
      "Final weights(w): 250.42544630783792\n",
      "Final biases (b): 0.11097252316856676\n"
     ]
    }
   ],
   "source": [
    "print('Final weights(w):', final_w)\n",
    "print('Final biases (b):', final_b)"
   ]
  },
  {
   "attachments": {},
   "cell_type": "markdown",
   "metadata": {},
   "source": [
    "Plotting the data points and the line defined by w and b"
   ]
  },
  {
   "cell_type": "code",
   "execution_count": 30,
   "metadata": {},
   "outputs": [
    {
     "data": {
      "image/png": "[encoded data removed]",
      "text/plain": [
       "<Figure size 640x480 with 1 Axes>"
      ]
     },
     "metadata": {},
     "output_type": "display_data"
    }
   ],
   "source": [
    "x_values = df['area']\n",
    "y_values = df['price']\n",
    "plt.scatter(x_values, y_values, label= ' Data Points')\n",
    "plt.plot(x_values, calculate_prediction(x_values, final_w, final_b), color = 'red', label = 'Line: y= {:.2f}x + {:.2f}'. format(final_w, final_b))\n",
    "plt.xlabel('Area')\n",
    "plt.ylabel('Price')\n",
    "plt.legend()\n",
    "plt.show()\n"
   ]
  },
  {
   "attachments": {},
   "cell_type": "markdown",
   "metadata": {},
   "source": [
    "Predicting the price for a given area using the obtained weights and biases\n"
   ]
  },
  {
   "cell_type": "code",
   "execution_count": 18,
   "metadata": {},
   "outputs": [
    {
     "name": "stdout",
     "output_type": "stream",
     "text": [
      "Predicted price for an area of 2231.88 : 293843.41585516324\n"
     ]
    }
   ],
   "source": [
    "area = 2231.88\n",
    "predicted_price = calculate_prediction(area, final_w, final_b)\n",
    "print('Predicted price for an area of', area, \":\", predicted_price)"
   ]
  },
  {
   "cell_type": "code",
   "execution_count": null,
   "metadata": {},
   "outputs": [],
   "source": []
  }
 ],
 "metadata": {
  "kernelspec": {
   "display_name": "Python 3",
   "language": "python",
   "name": "python3"
  },
  "language_info": {
   "codemirror_mode": {
    "name": "ipython",
    "version": 3
   },
   "file_extension": ".py",
   "mimetype": "text/x-python",
   "name": "python",
   "nbconvert_exporter": "python",
   "pygments_lexer": "ipython3",
   "version": "3.8.10"
  },
  "orig_nbformat": 4
 },
 "nbformat": 4,
 "nbformat_minor": 2
}
